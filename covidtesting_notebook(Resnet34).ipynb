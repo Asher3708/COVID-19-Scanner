{
  "nbformat": 4,
  "nbformat_minor": 0,
  "metadata": {
    "accelerator": "GPU",
    "colab": {
      "name": "covidtesting_notebook(Resnet34).ipynb",
      "provenance": [],
      "collapsed_sections": [],
      "include_colab_link": true
    },
    "kernelspec": {
      "display_name": "Python 3",
      "language": "python",
      "name": "python3"
    },
    "language_info": {
      "codemirror_mode": {
        "name": "ipython",
        "version": 3
      },
      "file_extension": ".py",
      "mimetype": "text/x-python",
      "name": "python",
      "nbconvert_exporter": "python",
      "pygments_lexer": "ipython3",
      "version": "3.7.7"
    }
  },
  "cells": [
    {
      "cell_type": "markdown",
      "metadata": {
        "id": "view-in-github",
        "colab_type": "text"
      },
      "source": [
        "<a href=\"https://colab.research.google.com/github/ajsanjoaquin/COVID-19-Scanner/blob/master/covidtesting_notebook(Resnet34).ipynb\" target=\"_parent\"><img src=\"https://colab.research.google.com/assets/colab-badge.svg\" alt=\"Open In Colab\"/></a>"
      ]
    },
    {
      "cell_type": "markdown",
      "metadata": {
        "colab_type": "text",
        "id": "syNJC42pUjl9"
      },
      "source": [
        "This model is provided as-is, and not meant to diagnose  COVID-19. This model has no clinical approval, nor endorsements from any health organizations. At the moment, this model is a proof of concept. In no way is the author responsible for any damages resulting from using this model. License: MIT "
      ]
    },
    {
      "cell_type": "markdown",
      "metadata": {
        "colab_type": "text",
        "id": "fDTcYzSMDucn"
      },
      "source": [
        "#PURE PYTORCH IMPLEMENTATION\n",
        "\n",
        "Model instantiation"
      ]
    },
    {
      "cell_type": "code",
      "metadata": {
        "colab_type": "code",
        "id": "kxVuivn32TCY",
        "colab": {}
      },
      "source": [
        "#download model\n",
        "!wget -O corona_resnet34.pth https://www.dropbox.com/s/o27w0dik8hdjaab/corona_resnet34.pth?dl=0"
      ],
      "execution_count": 0,
      "outputs": []
    },
    {
      "cell_type": "code",
      "metadata": {
        "colab_type": "code",
        "id": "GZHgM1-Z8Oqb",
        "colab": {}
      },
      "source": [
        "#Code taken from Andrea de Luca (https://bit.ly/2YXW6xN)\n",
        "## The code below gives you Flatten and the double Adaptive Pooling (from fastai), plus\n",
        "## a viable head. You must fill the number of FC's nodes manually through the myhead function\n",
        "from torch import Tensor\n",
        "from torch import nn\n",
        "from torchvision import transforms\n",
        "from torch.autograd import Variable\n",
        "import PIL.Image\n",
        "import torch\n",
        "import torchvision\n",
        "import logging as log\n",
        "from typing import Optional # required for \"Optional[type]\"\n",
        "import os,re\n",
        "#CPU for inference\n",
        "device = torch.device(\"cpu\")\n",
        "\n",
        "#put test images in test folder\n",
        "if not os.path.isdir('test'):\n",
        "  os.makedirs('test')\n",
        "\n",
        "class Flatten(nn.Module):\n",
        "    \"Flatten `x` to a single dimension, often used at the end of a model. `full` for rank-1 tensor\"\n",
        "    def __init__(self, full:bool=False):\n",
        "        super().__init__()\n",
        "        self.full = full\n",
        "\n",
        "    def forward(self, x):\n",
        "        return x.view(-1) if self.full else x.view(x.size(0), -1)\n",
        "\n",
        "class AdaptiveConcatPool2d(nn.Module):\n",
        "    \"Layer that concats `AdaptiveAvgPool2d` and `AdaptiveMaxPool2d`.\" # from pytorch\n",
        "    def __init__(self, sz:Optional[int]=None): \n",
        "        \"Output will be 2*sz or 2 if sz is None\"\n",
        "        super().__init__()\n",
        "        self.output_size = sz or 1\n",
        "        self.ap = nn.AdaptiveAvgPool2d(self.output_size)\n",
        "        self.mp = nn.AdaptiveMaxPool2d(self.output_size)\n",
        "    def forward(self, x): return torch.cat([self.mp(x), self.ap(x)], 1)\n",
        "    \n",
        "def myhead(nf, nc):\n",
        "    '''\n",
        "    Inputs: nf=  # of in_features in the 4th layer , nc= # of classes\n",
        "    '''\n",
        "    return \\\n",
        "    nn.Sequential(        # the dropout is needed otherwise you cannot load the weights\n",
        "            AdaptiveConcatPool2d(),\n",
        "            Flatten(),\n",
        "            nn.BatchNorm1d(nf,eps=1e-05,momentum=0.1,affine=True,track_running_stats=True),\n",
        "            nn.Dropout(p=0.25,inplace=False),\n",
        "            nn.Linear(nf, 512,bias=True),\n",
        "            nn.ReLU(inplace=True),\n",
        "            nn.BatchNorm1d(512,eps=1e-05,momentum=0.1,affine=True,track_running_stats=True),\n",
        "            nn.Dropout(p=0.5,inplace=False),\n",
        "            nn.Linear(512, nc,bias=True),\n",
        "        )\n",
        "\n",
        "\n",
        "my_model=torchvision.models.resnet34() \n",
        "modules=list(my_model.children())\n",
        "modules.pop(-1) \n",
        "modules.pop(-1) \n",
        "temp=nn.Sequential(nn.Sequential(*modules))\n",
        "tempchildren=list(temp.children()) \n",
        "\n",
        "#append the special fastai head\n",
        "#Configured according to Model Architecture\n",
        "\n",
        "tempchildren.append(myhead(1024,3))\n",
        "model_r34=nn.Sequential(*tempchildren)\n",
        "\n",
        "#LOAD MODEL\n",
        "state = torch.load('corona_resnet34.pth')\n",
        "model_r34.load_state_dict(state['model'])\n",
        "\n",
        "\n",
        "#important to set to evaluation mode\n",
        "model_r34.eval()\n",
        "\n",
        "\n",
        "test_transforms = transforms.Compose([\n",
        "    transforms.Resize(512),\n",
        "    transforms.ToTensor(),\n",
        "    transforms.Normalize(mean=[0.485, 0.456, 0.406],\n",
        "                    std=[0.229, 0.224, 0.225])\n",
        "])\n",
        "\n",
        "def predict_image(model,image):\n",
        "    softmaxer = torch.nn.Softmax(dim=1)\n",
        "    image_tensor = PIL.Image.open(image)\n",
        "    image_tensor = image_tensor.convert('RGB')\n",
        "    image_tensor = test_transforms(image_tensor).float()\n",
        "    image_tensor=image_tensor.unsqueeze(0)\n",
        "\n",
        "    #convert evaluation to probabilities with softmax\n",
        "    with torch.no_grad(): #turn off backpropagation\n",
        "      processed=softmaxer(model(image_tensor))\n",
        "    return processed[0] #return probabilities\n"
      ],
      "execution_count": 0,
      "outputs": []
    },
    {
      "cell_type": "markdown",
      "metadata": {
        "colab_type": "text",
        "id": "bEe1PH4dwYix"
      },
      "source": [
        "##Before running the code below, put the test images in the test folder that was just created."
      ]
    },
    {
      "cell_type": "code",
      "metadata": {
        "colab_type": "code",
        "id": "K8r9AL6X_F_F",
        "colab": {}
      },
      "source": [
        "path_to_test='test/'\n",
        "test_files=[file for file in sorted(os.listdir(path_to_test))]\n",
        "pytorch_results={filename:predict_image(model_r34,path_to_test+filename) for filename in test_files}\n"
      ],
      "execution_count": 0,
      "outputs": []
    },
    {
      "cell_type": "markdown",
      "metadata": {
        "colab_type": "text",
        "id": "FuRl6NDtw5-o"
      },
      "source": [
        "###Results are saved in a .csv file in the colab workspace."
      ]
    },
    {
      "cell_type": "code",
      "metadata": {
        "colab_type": "code",
        "id": "t7YqjQQw_STi",
        "colab": {}
      },
      "source": [
        "import pandas as pd\n",
        "final_df=pd.DataFrame.from_dict(pytorch_results,orient='index',columns=['covid','nofinding','opacity']).rename_axis('filename').reset_index()\n",
        "final_df['covid']=final_df['covid'].apply(lambda x: x.item())\n",
        "final_df['nofinding']=final_df['nofinding'].apply(lambda x: x.item())\n",
        "final_df['opacity']=final_df['opacity'].apply(lambda x: x.item())\n",
        "#get the column name of the highest probability\n",
        "final_df['Predicted Label'] =final_df[['covid','opacity','nofinding']].idxmax(axis=1)\n",
        "final_df.to_csv('results.csv', header=True)"
      ],
      "execution_count": 0,
      "outputs": []
    }
  ]
}